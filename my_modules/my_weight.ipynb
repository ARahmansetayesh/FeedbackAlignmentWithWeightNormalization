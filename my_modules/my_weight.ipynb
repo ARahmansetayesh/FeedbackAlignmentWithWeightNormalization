{
  "nbformat": 4,
  "nbformat_minor": 0,
  "metadata": {
    "colab": {
      "name": "my_weight.ipynb",
      "provenance": [],
      "collapsed_sections": []
    },
    "kernelspec": {
      "name": "python3",
      "display_name": "Python 3"
    }
  },
  "cells": [
    {
      "cell_type": "code",
      "metadata": {
        "id": "KEwa7e15pIdi"
      },
      "source": [
        "import  torch\n",
        "import  numpy as np\n",
        "\n",
        "\n",
        "\n",
        "# function for calculating angle between two weight matrices \"a\" and \"b\"\n",
        "# \"a\" and \"b\" should be torch tensors of list of torch tensors\n",
        "# \"a\" and \"b\", or \"b\" and transpose of \"a\" should have same dimentions\n",
        "# if \"b\" and transpose of \"a\" have the same dimention, then angle between \"b\" and transpose of \"a\" is calculated\n",
        "# if \"a\" and \"b\" are two list of equal length, the mean of pari-wise angles (angle between \"a[i]\"\" and \"b[i]\"\") is calculated.\n",
        "\n",
        "\n",
        "def angle( a , b):\n",
        "  with torch.no_grad():\n",
        "    if(type(a) != list):\n",
        "      a = [a]\n",
        "    if(type(b) != list):\n",
        "      b = [b]   \n",
        "\n",
        "    ang=0\n",
        "    for i in range(len(a)):\n",
        "      if (a[i].shape[0] == b[i].shape[0] and a[i].shape[1] == b[i].shape[1]):\n",
        "        ang=ang + 180  /np.pi * np.arccos(np.clip( (torch.sum(torch.mul(a[i],b[i]))/torch.norm(a[i])/torch.norm(b[i])).cpu().numpy() , a_min=-1 ,a_max = 1) )\n",
        "\n",
        "      elif (a[i].shape[0] == b[i].shape[1] and a[i].shape[1] == b[i].shape[0]):\n",
        "        bb = torch.transpose(b[i] , 0,1)\n",
        "        ang=ang + 180  /np.pi * np.arccos(np.clip( (torch.sum(torch.mul(a[i],bb))/torch.norm(a[i])/torch.norm(bb)).cpu().numpy() , a_min=-1 ,a_max = 1) )\n",
        "      else:\n",
        "        raise Exception('angle():: weight dimentions mismatch')\n",
        "\n",
        "    return  ang / len(a)\n",
        "\n"
      ],
      "execution_count": null,
      "outputs": []
    }
  ]
}