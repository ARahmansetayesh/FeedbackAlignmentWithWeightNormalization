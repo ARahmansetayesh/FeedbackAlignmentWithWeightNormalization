{
  "nbformat": 4,
  "nbformat_minor": 0,
  "metadata": {
    "colab": {
      "name": "my_signal_processing.ipynb",
      "provenance": [],
      "collapsed_sections": []
    },
    "kernelspec": {
      "name": "python3",
      "display_name": "Python 3"
    }
  },
  "cells": [
    {
      "cell_type": "code",
      "metadata": {
        "id": "R-T24rb0Hxyg"
      },
      "source": [
        "import  torch\n",
        "import  numpy as np\n",
        "\n"
      ],
      "execution_count": null,
      "outputs": []
    },
    {
      "cell_type": "code",
      "metadata": {
        "id": "GWsElUVRkpt7"
      },
      "source": [
        "\n",
        "# computing correlogram of two signal\n",
        "def correlogram( signal1 , signal2 , lag_n , lag_p , N_sample = None ):\n",
        "  if not torch.is_tensor(signal1): raise Exception(\"signal1 is not tensor\")\n",
        "  if not torch.is_tensor(signal2): raise Exception(\"signal2 is not tensor\")\n",
        "  if  len(signal2.shape)!=1: raise Exception(\"len(signal2.shape)!=1\")\n",
        "  if  len(signal1.shape)!=1: raise Exception(\"len(signal1.shape)!=1\")\n",
        "  if  type (lag_n)!= int: raise Exception(\"type (lag_n)!= int\")\n",
        "  if  type (lag_p)!= int: raise Exception(\"type (lag_p)!= int\")\n",
        "  lags = torch.tensor(range(lag_n , lag_p+1))\n",
        "  correlogram = torch.zeros(len(lags))\n",
        "\n",
        "  lens1 = len(signal1)\n",
        "  lens2 = len(signal2)\n",
        "  if N_sample == None :\n",
        "    for i in range(len(lags)):\n",
        "      lag = lags[i]\n",
        "      if lag >= 0:\n",
        "        correlogram[i] = torch.mul( signal1[lag  : ] , signal2[0  : lens1-lag ] ).mean()\n",
        "\n",
        "      if lag < 0:\n",
        "        lag = - lag\n",
        "        correlogram[i] = torch.mul( signal2[lag  : ] , signal1[0  : lens2-lag ] ).mean()\n",
        "\n",
        "  else :\n",
        "    for i in range(len(lags)):\n",
        "      lag = lags[i]\n",
        "      if lag >= 0:\n",
        "        correlogram[i] = torch.mul( signal1[lag  : lag+N_sample ] , signal2[0  : N_sample ] ).mean()\n",
        "\n",
        "      if lag < 0:\n",
        "        lag = - lag\n",
        "        correlogram[i] = torch.mul( signal2[lag  : lag+N_sample ] , signal1[0  : N_sample ] ).mean()\n",
        "\n",
        "\n",
        "  return lags , correlogram"
      ],
      "execution_count": null,
      "outputs": []
    },
    {
      "cell_type": "code",
      "metadata": {
        "id": "ISjbMleKtvcI"
      },
      "source": [
        "# moving average filter\n",
        "\n",
        "def sliding_window(signal1 , window_len ):\n",
        "  if not torch.is_tensor(signal1): raise Exception(\"signal1 is not tensor\")\n",
        "  if  len(signal1.shape) != 1: raise Exception(\"len(signal1.shape)!=1\")\n",
        "  if  type (window_len)!= int: raise Exception(\"type (lag_n)!= int\")\n",
        "  filtered_signal = torch.zeros(len(signal1)  )\n",
        "  std_signal = torch.zeros(len(signal1) )\n",
        "  lens1 = len(signal1)\n",
        "  lent=0\n",
        "  j=0\n",
        "  for i in range(len(filtered_signal)):\n",
        "    if lent < window_len :\n",
        "      lent = lent +1\n",
        "    else: \n",
        "      j = j+1\n",
        "    filtered_signal[i] =  signal1[ j  : j + lent ] .mean()\n",
        "    std_signal[i] =  signal1[ j  : j + lent ] .std()\n",
        "\n",
        "  return filtered_signal , std_signal"
      ],
      "execution_count": null,
      "outputs": []
    }
  ]
}